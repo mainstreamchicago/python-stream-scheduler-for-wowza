{
 "cells": [
  {
   "cell_type": "code",
   "execution_count": 12,
   "metadata": {
    "collapsed": false
   },
   "outputs": [
    {
     "name": "stdout",
     "output_type": "stream",
     "text": [
      "What type of media would you like to schedule? (VOD, live, episodic, playlist. Type stop to print): 'VOD'\n",
      "Enter the name of your VOD: 'Test'\n",
      "Enter the length in hh:mm:ss format: '07:07:07'\n",
      "Enter show start date in YYYY-MM-DD format: '2015-07-31'\n",
      "What type of media would you like to schedule? (VOD, live, episodic, playlist. Type stop to print): 'stop'\n",
      "('VOD info- name:', 'Test', 'duration:', 25627, 'start date:', datetime.date(2015, 7, 31))\n"
     ]
    },
    {
     "ename": "KeyboardInterrupt",
     "evalue": "",
     "output_type": "error",
     "traceback": [
      "\u001b[0;31m---------------------------------------------------------------------------\u001b[0m",
      "\u001b[0;31mKeyboardInterrupt\u001b[0m                         Traceback (most recent call last)",
      "\u001b[0;32m<ipython-input-12-ef521aac5be5>\u001b[0m in \u001b[0;36m<module>\u001b[0;34m()\u001b[0m\n\u001b[1;32m     52\u001b[0m         \u001b[0;32mbreak\u001b[0m\u001b[0;34m\u001b[0m\u001b[0m\n\u001b[1;32m     53\u001b[0m \u001b[0;34m\u001b[0m\u001b[0m\n\u001b[0;32m---> 54\u001b[0;31m \u001b[0mtimes\u001b[0m \u001b[0;34m=\u001b[0m \u001b[0mrun_of_show\u001b[0m\u001b[0;34m(\u001b[0m\u001b[0;34m)\u001b[0m\u001b[0;34m\u001b[0m\u001b[0m\n\u001b[0m\u001b[1;32m     55\u001b[0m \u001b[0;34m\u001b[0m\u001b[0m\n\u001b[1;32m     56\u001b[0m \u001b[0mstart_date\u001b[0m \u001b[0;34m=\u001b[0m \u001b[0mtimes\u001b[0m\u001b[0;34m[\u001b[0m\u001b[0;36m0\u001b[0m\u001b[0;34m]\u001b[0m\u001b[0;34m\u001b[0m\u001b[0m\n",
      "\u001b[0;32m<ipython-input-12-ef521aac5be5>\u001b[0m in \u001b[0;36mrun_of_show\u001b[0;34m()\u001b[0m\n\u001b[1;32m      3\u001b[0m \u001b[0;34m\u001b[0m\u001b[0m\n\u001b[1;32m      4\u001b[0m \u001b[0;32mdef\u001b[0m \u001b[0mrun_of_show\u001b[0m\u001b[0;34m(\u001b[0m\u001b[0;34m)\u001b[0m\u001b[0;34m:\u001b[0m\u001b[0;34m\u001b[0m\u001b[0m\n\u001b[0;32m----> 5\u001b[0;31m     \u001b[0mdate_entry\u001b[0m \u001b[0;34m=\u001b[0m \u001b[0minput\u001b[0m\u001b[0;34m(\u001b[0m\u001b[0;34m'Enter show start date in YYYY-MM-DD format: '\u001b[0m\u001b[0;34m)\u001b[0m\u001b[0;34m\u001b[0m\u001b[0m\n\u001b[0m\u001b[1;32m      6\u001b[0m     \u001b[0myear\u001b[0m\u001b[0;34m,\u001b[0m \u001b[0mmonth\u001b[0m\u001b[0;34m,\u001b[0m \u001b[0mday\u001b[0m \u001b[0;34m=\u001b[0m \u001b[0mmap\u001b[0m\u001b[0;34m(\u001b[0m\u001b[0mint\u001b[0m\u001b[0;34m,\u001b[0m \u001b[0mdate_entry\u001b[0m\u001b[0;34m.\u001b[0m\u001b[0msplit\u001b[0m\u001b[0;34m(\u001b[0m\u001b[0;34m'-'\u001b[0m\u001b[0;34m)\u001b[0m\u001b[0;34m)\u001b[0m\u001b[0;34m\u001b[0m\u001b[0m\n\u001b[1;32m      7\u001b[0m     \u001b[0mstart_date\u001b[0m \u001b[0;34m=\u001b[0m \u001b[0mdatetime\u001b[0m\u001b[0;34m.\u001b[0m\u001b[0mdate\u001b[0m\u001b[0;34m(\u001b[0m\u001b[0myear\u001b[0m\u001b[0;34m,\u001b[0m\u001b[0mmonth\u001b[0m\u001b[0;34m,\u001b[0m\u001b[0mday\u001b[0m\u001b[0;34m)\u001b[0m\u001b[0;34m\u001b[0m\u001b[0m\n",
      "\u001b[0;32m/Users/jesse/anaconda/lib/python2.7/site-packages/IPython/kernel/zmq/ipkernel.pyc\u001b[0m in \u001b[0;36m<lambda>\u001b[0;34m(prompt)\u001b[0m\n\u001b[1;32m    145\u001b[0m             \u001b[0mself\u001b[0m\u001b[0;34m.\u001b[0m\u001b[0m_sys_eval_input\u001b[0m \u001b[0;34m=\u001b[0m \u001b[0mbuiltin_mod\u001b[0m\u001b[0;34m.\u001b[0m\u001b[0minput\u001b[0m\u001b[0;34m\u001b[0m\u001b[0m\n\u001b[1;32m    146\u001b[0m             \u001b[0mbuiltin_mod\u001b[0m\u001b[0;34m.\u001b[0m\u001b[0mraw_input\u001b[0m \u001b[0;34m=\u001b[0m \u001b[0mself\u001b[0m\u001b[0;34m.\u001b[0m\u001b[0mraw_input\u001b[0m\u001b[0;34m\u001b[0m\u001b[0m\n\u001b[0;32m--> 147\u001b[0;31m             \u001b[0mbuiltin_mod\u001b[0m\u001b[0;34m.\u001b[0m\u001b[0minput\u001b[0m \u001b[0;34m=\u001b[0m \u001b[0;32mlambda\u001b[0m \u001b[0mprompt\u001b[0m\u001b[0;34m=\u001b[0m\u001b[0;34m''\u001b[0m\u001b[0;34m:\u001b[0m \u001b[0meval\u001b[0m\u001b[0;34m(\u001b[0m\u001b[0mself\u001b[0m\u001b[0;34m.\u001b[0m\u001b[0mraw_input\u001b[0m\u001b[0;34m(\u001b[0m\u001b[0mprompt\u001b[0m\u001b[0;34m)\u001b[0m\u001b[0;34m)\u001b[0m\u001b[0;34m\u001b[0m\u001b[0m\n\u001b[0m\u001b[1;32m    148\u001b[0m         \u001b[0mself\u001b[0m\u001b[0;34m.\u001b[0m\u001b[0m_save_getpass\u001b[0m \u001b[0;34m=\u001b[0m \u001b[0mgetpass\u001b[0m\u001b[0;34m.\u001b[0m\u001b[0mgetpass\u001b[0m\u001b[0;34m\u001b[0m\u001b[0m\n\u001b[1;32m    149\u001b[0m         \u001b[0mgetpass\u001b[0m\u001b[0;34m.\u001b[0m\u001b[0mgetpass\u001b[0m \u001b[0;34m=\u001b[0m \u001b[0mself\u001b[0m\u001b[0;34m.\u001b[0m\u001b[0mgetpass\u001b[0m\u001b[0;34m\u001b[0m\u001b[0m\n",
      "\u001b[0;32m/Users/jesse/anaconda/lib/python2.7/site-packages/IPython/kernel/zmq/kernelbase.pyc\u001b[0m in \u001b[0;36mraw_input\u001b[0;34m(self, prompt)\u001b[0m\n\u001b[1;32m    649\u001b[0m             \u001b[0mself\u001b[0m\u001b[0;34m.\u001b[0m\u001b[0m_parent_ident\u001b[0m\u001b[0;34m,\u001b[0m\u001b[0;34m\u001b[0m\u001b[0m\n\u001b[1;32m    650\u001b[0m             \u001b[0mself\u001b[0m\u001b[0;34m.\u001b[0m\u001b[0m_parent_header\u001b[0m\u001b[0;34m,\u001b[0m\u001b[0;34m\u001b[0m\u001b[0m\n\u001b[0;32m--> 651\u001b[0;31m             \u001b[0mpassword\u001b[0m\u001b[0;34m=\u001b[0m\u001b[0mFalse\u001b[0m\u001b[0;34m,\u001b[0m\u001b[0;34m\u001b[0m\u001b[0m\n\u001b[0m\u001b[1;32m    652\u001b[0m         )\n\u001b[1;32m    653\u001b[0m \u001b[0;34m\u001b[0m\u001b[0m\n",
      "\u001b[0;32m/Users/jesse/anaconda/lib/python2.7/site-packages/IPython/kernel/zmq/kernelbase.pyc\u001b[0m in \u001b[0;36m_input_request\u001b[0;34m(self, prompt, ident, parent, password)\u001b[0m\n\u001b[1;32m    679\u001b[0m             \u001b[0;32mexcept\u001b[0m \u001b[0mKeyboardInterrupt\u001b[0m\u001b[0;34m:\u001b[0m\u001b[0;34m\u001b[0m\u001b[0m\n\u001b[1;32m    680\u001b[0m                 \u001b[0;31m# re-raise KeyboardInterrupt, to truncate traceback\u001b[0m\u001b[0;34m\u001b[0m\u001b[0;34m\u001b[0m\u001b[0m\n\u001b[0;32m--> 681\u001b[0;31m                 \u001b[0;32mraise\u001b[0m \u001b[0mKeyboardInterrupt\u001b[0m\u001b[0;34m\u001b[0m\u001b[0m\n\u001b[0m\u001b[1;32m    682\u001b[0m             \u001b[0;32melse\u001b[0m\u001b[0;34m:\u001b[0m\u001b[0;34m\u001b[0m\u001b[0m\n\u001b[1;32m    683\u001b[0m                 \u001b[0;32mbreak\u001b[0m\u001b[0;34m\u001b[0m\u001b[0m\n",
      "\u001b[0;31mKeyboardInterrupt\u001b[0m: "
     ]
    }
   ],
   "source": [
    "import datetime\n",
    "scheduling = True\n",
    "\n",
    "def run_of_show():\n",
    "    date_entry = input('Enter show start date in YYYY-MM-DD format: ')\n",
    "    year, month, day = map(int, date_entry.split('-'))\n",
    "    start_date = datetime.date(year,month,day)\n",
    "\n",
    "    time_entry = input('Enter show start time in hh:mm:ss format: ')\n",
    "    hour, minute, second = map(int, time_entry.split(':'))\n",
    "    start_time = datetime.time(hour,minute,second)\n",
    "\n",
    "    show_length_entry = input('Enter length of show in days: ')\n",
    "    show_length = int(show_length_entry)\n",
    "\n",
    "    end_date = start_date + datetime.timedelta(days=show_length)\n",
    "    return start_date, start_time, end_date\n",
    "\n",
    "#determine_run_of_show = input('Would you like to determine the run of show? Y/N: ')\n",
    "#determine_run_of_show = str(determine_run_of_show)\n",
    "#if determine_run_of_show == 'Y':\n",
    "#    run_of_show()\n",
    "\n",
    "while scheduling == True:\n",
    "    media_type = input('What type of media would you like to schedule? (VOD, live, episodic, playlist. Type stop to print): ')\n",
    "    media_type = str(media_type)\n",
    "\n",
    "    if media_type == \"VOD\":\n",
    "        VOD_name = input('Enter the name of your VOD: ')\n",
    "        VOD_name = str(VOD_name)\n",
    "        VOD_duration_entry = input('Enter the length in hh:mm:ss format: ')\n",
    "        VOD_hour, VOD_minute, VOD_second = map(int, VOD_duration_entry.split(':'))\n",
    "        VOD_duration = datetime.timedelta(hours=VOD_hour, minutes=VOD_minute, seconds=VOD_second)\n",
    "        VOD_duration = int(VOD_duration.total_seconds())\n",
    "        VOD_date_entry = input('Enter show start date in YYYY-MM-DD format: ')\n",
    "        VOD_year, VOD_month, VOD_day = map(int, VOD_date_entry.split('-'))\n",
    "        VOD_start_date = datetime.date(VOD_year,VOD_month,VOD_day)\n",
    "        continue\n",
    "\n",
    "    elif media_type == \"live\":\n",
    "        continue\n",
    "\n",
    "    elif media_type == \"episodic\":\n",
    "        continue\n",
    "\n",
    "    elif media_type == \"playlist\":\n",
    "        continue\n",
    "\n",
    "    elif media_type == \"stop\":\n",
    "        print (\"VOD info- name:\", VOD_name, \"duration:\", VOD_duration, \"start date:\", VOD_start_date)\n",
    "        scheduling = False\n",
    "        break\n",
    "        \n",
    "times = run_of_show()\n",
    "\n",
    "start_date = times[0]\n",
    "start_time = times[1]\n",
    "end_date = times[2]\n",
    "\n",
    "print (\"Show start: \", start_date, start_time)\n",
    "print (\"Show end: \", end_date)"
   ]
  },
  {
   "cell_type": "markdown",
   "metadata": {},
   "source": [
    "'VOD'  \n",
    "'Test'  \n",
    "'07:07:07'  \n",
    "'2015-07-31'  "
   ]
  },
  {
   "cell_type": "code",
   "execution_count": 14,
   "metadata": {
    "collapsed": false
   },
   "outputs": [
    {
     "name": "stdout",
     "output_type": "stream",
     "text": [
      "Enter show start date in YYYY-MM-DD format: '2015-07-31'\n",
      "Enter show start time in hh:mm:ss format: '07:07:07'\n",
      "Enter length of show in days: '7'\n"
     ]
    }
   ],
   "source": [
    "x = run_of_show()"
   ]
  },
  {
   "cell_type": "code",
   "execution_count": 18,
   "metadata": {
    "collapsed": false
   },
   "outputs": [
    {
     "data": {
      "text/plain": [
       "datetime.date(2015, 8, 7)"
      ]
     },
     "execution_count": 18,
     "metadata": {},
     "output_type": "execute_result"
    }
   ],
   "source": [
    "x[2]"
   ]
  },
  {
   "cell_type": "code",
   "execution_count": 40,
   "metadata": {
    "collapsed": false
   },
   "outputs": [
    {
     "name": "stdout",
     "output_type": "stream",
     "text": [
      "Enter show start date in YYYY-MM-DD format: 2015-07-31\n",
      "Enter show start time in hh:mm:ss format: 00:00:01\n",
      "Enter length of show in days: 7\n",
      "Would you like to continue? Y/NY\n",
      "What type of media would you like to schedule? (VOD, live, episodic, playlist. Type stop to printVOD\n",
      "Enter the name of your VOD: test1\n",
      "Enter the length in hh:mm:ss format: 00:00:02\n",
      "Enter show start date in YYYY-MM-DD format: 1979-07-31\n",
      "Would you like to continue? Y/NY\n",
      "What type of media would you like to schedule? (VOD, live, episodic, playlist. Type stop to printVOD\n",
      "Enter the name of your VOD: Nick\n",
      "Enter the length in hh:mm:ss format: 00:01:01\n",
      "Enter show start date in YYYY-MM-DD format: 2015-01-01\n",
      "Would you like to continue? Y/NN\n",
      "All Finished!\n",
      "('Show start: ', datetime.date(2015, 7, 31), datetime.time(0, 0, 1))\n",
      "('Show end: ', datetime.date(2015, 8, 7))\n"
     ]
    }
   ],
   "source": [
    "import datetime\n",
    "\n",
    "scheduling = True\n",
    "VODS_Scheduled = {}\n",
    "live_Scheduled = {}\n",
    "episodic_Scheduled = {}\n",
    "playlist_Scheduled = {}\n",
    "\n",
    "def run_of_show():\n",
    "    '''\n",
    "    '''\n",
    "    date_entry = raw_input('Enter show start date in YYYY-MM-DD format: ')\n",
    "    year, month, day = map(int, date_entry.split('-'))\n",
    "    start_date = datetime.date(year,month,day)\n",
    "\n",
    "    time_entry = raw_input('Enter show start time in hh:mm:ss format: ')\n",
    "    hour, minute, second = map(int, time_entry.split(':'))\n",
    "    start_time = datetime.time(hour,minute,second)\n",
    "\n",
    "    show_length_entry = raw_input('Enter length of show in days: ')\n",
    "    show_length = int(show_length_entry)\n",
    "\n",
    "    end_date = start_date + datetime.timedelta(days=show_length)\n",
    "    return start_date, start_time, end_date\n",
    "\n",
    "def set_scheduling(media_type):\n",
    "    '''\n",
    "    '''\n",
    "    #media_type = 'VOD'\n",
    "    scheduling = True\n",
    "    if media_type == \"VOD\":\n",
    "        VOD_Details = []\n",
    "        VOD_name = raw_input('Enter the name of your VOD: ')\n",
    "        VOD_name = str(VOD_name)\n",
    "        VOD_Details.append(VOD_name)\n",
    "        VOD_duration_entry = raw_input('Enter the length in hh:mm:ss format: ')\n",
    "        VOD_hour, VOD_minute, VOD_second = map(int, VOD_duration_entry.split(':'))\n",
    "        VOD_duration = datetime.timedelta(hours=VOD_hour, minutes=VOD_minute, seconds=VOD_second)\n",
    "        VOD_duration = int(VOD_duration.total_seconds())\n",
    "        VOD_Details.append(VOD_duration)\n",
    "        VOD_date_entry = raw_input('Enter show start date in YYYY-MM-DD format: ')\n",
    "        VOD_year, VOD_month, VOD_day = map(int, VOD_date_entry.split('-'))\n",
    "        VOD_start_date = datetime.date(VOD_year,VOD_month,VOD_day)\n",
    "        VOD_Details.append(VOD_start_date)\n",
    "        VODS_Scheduled[VOD_name] = VOD_Details\n",
    "        #continue\n",
    "\n",
    "    elif media_type == \"live\":\n",
    "        #continue\n",
    "        pass\n",
    "\n",
    "    elif media_type == \"episodic\":\n",
    "        #continue\n",
    "        pass\n",
    "    \n",
    "    elif media_type == \"playlist\":\n",
    "        #continue\n",
    "        pass\n",
    "        \n",
    "    elif media_type == \"stop\":\n",
    "        #print (\"VOD info- name:\", VOD_name, \"duration:\", VOD_duration, \"start date:\", VOD_start_date)\n",
    "        scheduling = False\n",
    "        #break\n",
    "        pass\n",
    "            \n",
    "def loop_scheduling():\n",
    "    cont = 'Y'\n",
    "    while cont == 'Y':\n",
    "        cont = raw_input('Would you like to continue? Y/N')\n",
    "        if cont == 'Y':\n",
    "            media_type = raw_input('What type of media would you like to schedule? (VOD, live, episodic, playlist. Type stop to print')\n",
    "            set_scheduling(media_type)\n",
    "        elif cont == 'N':\n",
    "            print('All Finished!')\n",
    "            break\n",
    "        else:\n",
    "            print('Please input Y or N only.')\n",
    "            continue\n",
    "    \n",
    "\n",
    "times = run_of_show()\n",
    "#media_type = raw_input('What type of media would you like to schedule? (VOD, live, episodic, playlist. Type stop to print')\n",
    "#set_scheduling(media_type)\n",
    "loop_scheduling()\n",
    "\n",
    "start_date = times[0]\n",
    "start_time = times[1]\n",
    "end_date = times[2]\n",
    "\n",
    "print (\"Show start: \", start_date, start_time)\n",
    "print (\"Show end: \", end_date)\n",
    "#print('All Finished!')"
   ]
  },
  {
   "cell_type": "code",
   "execution_count": 41,
   "metadata": {
    "collapsed": false
   },
   "outputs": [
    {
     "data": {
      "text/plain": [
       "{'Nick': ['Nick', 61, datetime.date(2015, 1, 1)],\n",
       " 'test1': ['test1', 2, datetime.date(1979, 7, 31)]}"
      ]
     },
     "execution_count": 41,
     "metadata": {},
     "output_type": "execute_result"
    }
   ],
   "source": [
    "VODS_Scheduled"
   ]
  },
  {
   "cell_type": "code",
   "execution_count": 44,
   "metadata": {
    "collapsed": false
   },
   "outputs": [],
   "source": [
    "import pandas as pd"
   ]
  },
  {
   "cell_type": "code",
   "execution_count": 45,
   "metadata": {
    "collapsed": true
   },
   "outputs": [],
   "source": [
    "df = pd.DataFrame.from_dict(VODS_Scheduled)"
   ]
  },
  {
   "cell_type": "code",
   "execution_count": 46,
   "metadata": {
    "collapsed": false
   },
   "outputs": [
    {
     "data": {
      "text/html": [
       "<div style=\"max-height:1000px;max-width:1500px;overflow:auto;\">\n",
       "<table border=\"1\" class=\"dataframe\">\n",
       "  <thead>\n",
       "    <tr style=\"text-align: right;\">\n",
       "      <th></th>\n",
       "      <th>Nick</th>\n",
       "      <th>test1</th>\n",
       "    </tr>\n",
       "  </thead>\n",
       "  <tbody>\n",
       "    <tr>\n",
       "      <th>0</th>\n",
       "      <td>Nick</td>\n",
       "      <td>test1</td>\n",
       "    </tr>\n",
       "    <tr>\n",
       "      <th>1</th>\n",
       "      <td>61</td>\n",
       "      <td>2</td>\n",
       "    </tr>\n",
       "    <tr>\n",
       "      <th>2</th>\n",
       "      <td>2015-01-01</td>\n",
       "      <td>1979-07-31</td>\n",
       "    </tr>\n",
       "  </tbody>\n",
       "</table>\n",
       "</div>"
      ],
      "text/plain": [
       "         Nick       test1\n",
       "0        Nick       test1\n",
       "1          61           2\n",
       "2  2015-01-01  1979-07-31"
      ]
     },
     "execution_count": 46,
     "metadata": {},
     "output_type": "execute_result"
    }
   ],
   "source": [
    "df"
   ]
  },
  {
   "cell_type": "code",
   "execution_count": 47,
   "metadata": {
    "collapsed": false
   },
   "outputs": [
    {
     "data": {
      "text/plain": [
       "0          Nick\n",
       "1            61\n",
       "2    2015-01-01\n",
       "Name: Nick, dtype: object"
      ]
     },
     "execution_count": 47,
     "metadata": {},
     "output_type": "execute_result"
    }
   ],
   "source": [
    "df['Nick']"
   ]
  },
  {
   "cell_type": "code",
   "execution_count": 48,
   "metadata": {
    "collapsed": true
   },
   "outputs": [],
   "source": [
    "out = df.to_json()"
   ]
  },
  {
   "cell_type": "code",
   "execution_count": 49,
   "metadata": {
    "collapsed": false
   },
   "outputs": [
    {
     "data": {
      "text/plain": [
       "'{\"Nick\":{\"0\":\"Nick\",\"1\":61,\"2\":1420070400000},\"test1\":{\"0\":\"test1\",\"1\":2,\"2\":302227200000}}'"
      ]
     },
     "execution_count": 49,
     "metadata": {},
     "output_type": "execute_result"
    }
   ],
   "source": [
    "out"
   ]
  },
  {
   "cell_type": "code",
   "execution_count": null,
   "metadata": {
    "collapsed": true
   },
   "outputs": [],
   "source": []
  }
 ],
 "metadata": {
  "kernelspec": {
   "display_name": "Python 2",
   "language": "python",
   "name": "python2"
  },
  "language_info": {
   "codemirror_mode": {
    "name": "ipython",
    "version": 2
   },
   "file_extension": ".py",
   "mimetype": "text/x-python",
   "name": "python",
   "nbconvert_exporter": "python",
   "pygments_lexer": "ipython2",
   "version": "2.7.10"
  }
 },
 "nbformat": 4,
 "nbformat_minor": 0
}
